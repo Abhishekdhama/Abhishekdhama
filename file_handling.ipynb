{
  "nbformat": 4,
  "nbformat_minor": 0,
  "metadata": {
    "colab": {
      "provenance": [],
      "authorship_tag": "ABX9TyO6ZXUPWOqBpZz2GPrpcRXd",
      "include_colab_link": true
    },
    "kernelspec": {
      "name": "python3",
      "display_name": "Python 3"
    },
    "language_info": {
      "name": "python"
    }
  },
  "cells": [
    {
      "cell_type": "markdown",
      "metadata": {
        "id": "view-in-github",
        "colab_type": "text"
      },
      "source": [
        "<a href=\"https://colab.research.google.com/github/Abhishekdhama/Abhishekdhama/blob/main/file_handling.ipynb\" target=\"_parent\"><img src=\"https://colab.research.google.com/assets/colab-badge.svg\" alt=\"Open In Colab\"/></a>"
      ]
    },
    {
      "cell_type": "markdown",
      "source": [
        "1. Write a python function to read the contents of a text file and print them to the console.\n"
      ],
      "metadata": {
        "id": "4Pp2knmPWQMU"
      }
    },
    {
      "cell_type": "code",
      "source": [
        "def read_and_print(filename):\n",
        "   with open(filename, 'r')as file:\n",
        "    contents = file.read()\n",
        "    print(contents)"
      ],
      "metadata": {
        "id": "xjYnIXGEW6Rb"
      },
      "execution_count": 3,
      "outputs": []
    },
    {
      "cell_type": "markdown",
      "source": [
        "2. how can you open a file in Python for reading?"
      ],
      "metadata": {
        "id": "uBRjTbBHXZRg"
      }
    },
    {
      "cell_type": "code",
      "source": [
        "file = open('example.txt', 'r')"
      ],
      "metadata": {
        "id": "hWlJiOIHXnG-"
      },
      "execution_count": null,
      "outputs": []
    },
    {
      "cell_type": "markdown",
      "source": [
        "3. Explain the difference between read() and readlien() methods when reading a file."
      ],
      "metadata": {
        "id": "MZkhKV4xXy1O"
      }
    },
    {
      "cell_type": "code",
      "source": [
        "file = open('example.txt', 'r')\n",
        "contents = file.read() # read the entire file\n",
        "line = file.readline() # read one line"
      ],
      "metadata": {
        "id": "K8GdGyiFYFaq"
      },
      "execution_count": null,
      "outputs": []
    },
    {
      "cell_type": "markdown",
      "source": [
        "4. Write a python functions to read the contents of a text file and return them as a list of lines."
      ],
      "metadata": {
        "id": "FDGsaMSfYmas"
      }
    },
    {
      "cell_type": "code",
      "source": [
        "def read_lines(filename):\n",
        "  with open('filename', 'r') as file:\n",
        "    lines = f.readlines()\n",
        "    return lines"
      ],
      "metadata": {
        "id": "FZw-h_viY7Gf"
      },
      "execution_count": 4,
      "outputs": []
    },
    {
      "cell_type": "markdown",
      "source": [
        "5. How do yoy close a file properly after reading its contents in python?\n"
      ],
      "metadata": {
        "id": "mangm9JyZf38"
      }
    },
    {
      "cell_type": "code",
      "source": [
        "file.close()"
      ],
      "metadata": {
        "id": "syRr9y0-Z489"
      },
      "execution_count": null,
      "outputs": []
    },
    {
      "cell_type": "markdown",
      "source": [
        "6. Write a python function to read the first n lines of a text file."
      ],
      "metadata": {
        "id": "bL5M7D36aD9I"
      }
    },
    {
      "cell_type": "code",
      "source": [
        "def_read_first_n_lines(Filename, n):\n",
        "  with open('Filename', 'r') as f:\n",
        "    for i in range(n):\n",
        "      line = file.readline()\n",
        "      print(line)"
      ],
      "metadata": {
        "id": "vU2MplnVaSEK"
      },
      "execution_count": null,
      "outputs": []
    },
    {
      "cell_type": "markdown",
      "source": [
        "7. how do you check if a file exists in python before opening  it for reading?"
      ],
      "metadata": {
        "id": "aSnU6C4Ka519"
      }
    },
    {
      "cell_type": "code",
      "source": [
        "import os\n",
        "if os.path.exists('example.txt'):\n",
        "  print('file exists')\n",
        "else:\n",
        "  print('file does not exists')"
      ],
      "metadata": {
        "id": "Q4t3wg5rbNgk"
      },
      "execution_count": null,
      "outputs": []
    },
    {
      "cell_type": "markdown",
      "source": [
        "8. write a function to count the number of words in a text file"
      ],
      "metadata": {
        "id": "1NDMCCzubmIT"
      }
    },
    {
      "cell_type": "code",
      "source": [
        "def count_words(filename):\n",
        "  with open('filename', 'r') as file:\n",
        "    contents = file.read()\n",
        "    word_count = len(contents.split())\n",
        "    return word"
      ],
      "metadata": {
        "id": "uUU332XKb0T0"
      },
      "execution_count": null,
      "outputs": []
    },
    {
      "cell_type": "markdown",
      "source": [
        "9. how can you check if a file in python is closed ?"
      ],
      "metadata": {
        "id": "krQ6LCcVcR0v"
      }
    },
    {
      "cell_type": "code",
      "source": [
        "file.closed()  # return True if  file is closed .\n",
        "           # False otherwise\n"
      ],
      "metadata": {
        "id": "Mm9eRfAJchdk"
      },
      "execution_count": null,
      "outputs": []
    },
    {
      "cell_type": "markdown",
      "source": [
        "10. write a function to copy the contents of one text file to another.\n"
      ],
      "metadata": {
        "id": "P3o-II83cwpd"
      }
    },
    {
      "cell_type": "code",
      "source": [
        "def copy_file(source, destination):\n",
        "  with open('source', 'r') as src_file:\n",
        "    with open('destination', 'w') as dest_file:\n",
        "      dest_file.write(src_file.read())"
      ],
      "metadata": {
        "id": "ra_KNAYodB3C"
      },
      "execution_count": null,
      "outputs": []
    },
    {
      "cell_type": "markdown",
      "source": [
        "11. how do you handle file **not found** error in python?\n",
        ""
      ],
      "metadata": {
        "id": "AwZ8U-OAdzlA"
      }
    },
    {
      "cell_type": "code",
      "source": [
        "try:\n",
        "  file = open('nonexistent.txt', 'r')\n",
        "exept fileNotFoundError:\n",
        "    print('file not found')\n"
      ],
      "metadata": {
        "id": "xtvfGDYWeGaV"
      },
      "execution_count": null,
      "outputs": []
    },
    {
      "cell_type": "markdown",
      "source": [
        "12.write a function to append a new file to an existing text file."
      ],
      "metadata": {
        "id": "sLgta2vfejDe"
      }
    },
    {
      "cell_type": "code",
      "source": [
        "def_append_line(filename, line):\n",
        "  with open('filename', 'a') as file:\n",
        "    file.write(line + '\\n')"
      ],
      "metadata": {
        "id": "YGGqevvQe2JB"
      },
      "execution_count": null,
      "outputs": []
    },
    {
      "cell_type": "markdown",
      "source": [
        "13. how do you get the  current working directory in python?"
      ],
      "metadata": {
        "id": "HTT_uWXHfXz2"
      }
    },
    {
      "cell_type": "code",
      "source": [
        "import os\n",
        "cwd = os.getcwd()"
      ],
      "metadata": {
        "id": "6W_AWAybfiIw"
      },
      "execution_count": null,
      "outputs": []
    },
    {
      "cell_type": "markdown",
      "source": [
        "14. write a fuction to read a CSV file and return its contents as a list of dictionaries."
      ],
      "metadata": {
        "id": "RO5F6_klfvZc"
      }
    },
    {
      "cell_type": "code",
      "source": [
        "import csv\n",
        "def read_csv(filename):\n",
        "  data = []\n",
        "  with open('filename', 'r') as file:\n",
        "    reader = csv.Dictreader(file)\n",
        "    for row in reader:\n",
        "      data.append(row)\n",
        "  return data"
      ],
      "metadata": {
        "id": "w9NC9ePigUFw"
      },
      "execution_count": null,
      "outputs": []
    },
    {
      "cell_type": "markdown",
      "source": [
        "15. how do you write data to  a CSV file in python?"
      ],
      "metadata": {
        "id": "BACr9_umhJIy"
      }
    },
    {
      "cell_type": "code",
      "source": [
        "data = [{'name': 'Alice', 'age': 25}, {'name': 'Bob', 'age': 30}]\n",
        "with open('data.csv', 'w', newline='') as file:\n",
        "    fieldnames = ['name', 'age']\n",
        "    writer = csv.DictWriter(file, fieldnames=fieldnames)\n",
        "    writer.writeheader()\n",
        "    for row in data:\n",
        "        writer.writerow(row)"
      ],
      "metadata": {
        "id": "wo6lZgofhWNG"
      },
      "execution_count": null,
      "outputs": []
    },
    {
      "cell_type": "markdown",
      "source": [
        "\n",
        "16. how do you write data to a binary file in python?"
      ],
      "metadata": {
        "id": "gHCrn1Oeh1wW"
      }
    },
    {
      "cell_type": "code",
      "source": [
        "data = b'hello, world!'\n",
        "with open ('binary.bin', 'wb') as file:\n",
        "  file.write(data)\n"
      ],
      "metadata": {
        "id": "4hsyNROKjXgy"
      },
      "execution_count": null,
      "outputs": []
    },
    {
      "cell_type": "markdown",
      "source": [
        "17. write a function to read a binary file and return its contents."
      ],
      "metadata": {
        "id": "-xSTEOhAj26m"
      }
    },
    {
      "cell_type": "code",
      "source": [
        "def read_bianry(filename):\n",
        "  with open('filename', 'r') as file:\n",
        "    data = file.read()\n",
        "    return data"
      ],
      "metadata": {
        "id": "b5uq5e62kGLQ"
      },
      "execution_count": null,
      "outputs": []
    },
    {
      "cell_type": "markdown",
      "source": [
        "18. write a fucntion to count the number of lines in a text file."
      ],
      "metadata": {
        "id": "Yj2rRLBckaV-"
      }
    },
    {
      "cell_type": "code",
      "source": [
        "def count_lines(filename):\n",
        "  with open('filename', 'r') as file:\n",
        "    line_count = sum(1 for line in file)\n",
        "    return line_count"
      ],
      "metadata": {
        "id": "9HLc-DUNkpOi"
      },
      "execution_count": null,
      "outputs": []
    },
    {
      "cell_type": "markdown",
      "source": [
        "19. how do read a file line by line in python?\n"
      ],
      "metadata": {
        "id": "fK8Km0kzlOeC"
      }
    },
    {
      "cell_type": "code",
      "source": [
        "with open('example.txt', 'r') as file:\n",
        "  for line in line:\n",
        "    print(line)"
      ],
      "metadata": {
        "id": "9Jas9LgSlYwJ"
      },
      "execution_count": null,
      "outputs": []
    },
    {
      "cell_type": "markdown",
      "source": [
        "20. write a function to check if a given word is present in a text file."
      ],
      "metadata": {
        "id": "Fp7AIO2BlpDv"
      }
    },
    {
      "cell_type": "code",
      "source": [
        "def word_in_file(filename, word):\n",
        "  with open(filename, 'r') as file:\n",
        "    for line in file:\n",
        "      if word  in line:\n",
        "        return True\n",
        "\n",
        "  return False"
      ],
      "metadata": {
        "id": "Mj_tashXl2Im"
      },
      "execution_count": null,
      "outputs": []
    },
    {
      "cell_type": "markdown",
      "source": [
        "21. how do you read a file in reverse order in python."
      ],
      "metadata": {
        "id": "MJRLXZATme4U"
      }
    },
    {
      "cell_type": "code",
      "source": [
        "def_read_file_reverse(filename):\n",
        "  with open('filename', 'r') as file:\n",
        "    lines = file.readlines()\n",
        "    line.reverse()\n",
        "    for line in lines:\n",
        "      print(line)"
      ],
      "metadata": {
        "id": "jaQV9FSLmoZ0"
      },
      "execution_count": null,
      "outputs": []
    },
    {
      "cell_type": "markdown",
      "source": [
        "22. write a function to merge two text files into a new file."
      ],
      "metadata": {
        "id": "XicVPy0gnIwa"
      }
    },
    {
      "cell_type": "code",
      "source": [
        "def merge_files(file1, file2, merged_file):\n",
        "  with open('file1', 'r') as f1 , open('file2', 'r') as f2, open(merged_file, 'w') as output:\n",
        "    output.write(f1.read() + f2.read())"
      ],
      "metadata": {
        "id": "S2OFXzkenZME"
      },
      "execution_count": null,
      "outputs": []
    },
    {
      "cell_type": "markdown",
      "source": [
        "23. how do you rename a file?"
      ],
      "metadata": {
        "id": "wySb1i6MoT1z"
      }
    },
    {
      "cell_type": "code",
      "source": [
        "import os\n",
        "os.rename('oldfile.txt', 'newfile.txt')"
      ],
      "metadata": {
        "id": "2PEXu86Hoaf0"
      },
      "execution_count": null,
      "outputs": []
    },
    {
      "cell_type": "markdown",
      "source": [
        "24. write a function to remove a specific line from a text  file."
      ],
      "metadata": {
        "id": "st94ZaX4ol8p"
      }
    },
    {
      "cell_type": "code",
      "source": [
        "def remove_line(filename, line_number):\n",
        "  with open('filename', 'r') as file:\n",
        "    lines = file.readlines()\n",
        "    with open('filenames', 'w') as file:\n",
        "      for i , line in enumerate(lines)\n",
        "\n",
        "        if i != line_number:\n",
        "          file.write(line)\n"
      ],
      "metadata": {
        "id": "illRRUBno2YC"
      },
      "execution_count": null,
      "outputs": []
    },
    {
      "cell_type": "markdown",
      "source": [
        "25. write a function to read JSON file ?"
      ],
      "metadata": {
        "id": "DXAhemasppFp"
      }
    },
    {
      "cell_type": "code",
      "source": [
        "import json\n",
        "def read_json(filename):\n",
        "  with open('filename', 'r') as file:\n",
        "    data = json.load(file)\n",
        "  return data\n"
      ],
      "metadata": {
        "id": "G5fs-Wjxp_au"
      },
      "execution_count": null,
      "outputs": []
    },
    {
      "cell_type": "markdown",
      "source": [
        "26. how do you write a data in json file?"
      ],
      "metadata": {
        "id": "5O2R-clEqZJF"
      }
    },
    {
      "cell_type": "code",
      "source": [
        "data = {'name': 'alice', 'age': '23'}\n",
        "with open('data.json', 'w') as file:\n",
        "  json.dump(data, file)"
      ],
      "metadata": {
        "id": "MhzhI0LfqitG"
      },
      "execution_count": null,
      "outputs": []
    }
  ]
}